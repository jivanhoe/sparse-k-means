{
 "cells": [
  {
   "cell_type": "code",
   "execution_count": 18,
   "metadata": {},
   "outputs": [],
   "source": [
    "using PyPlot, DataFrames, Combinatorics"
   ]
  },
  {
   "cell_type": "code",
   "execution_count": 19,
   "metadata": {},
   "outputs": [
    {
     "name": "stdout",
     "output_type": "stream",
     "text": [
      "Academic license - for non-commercial use only\n"
     ]
    }
   ],
   "source": [
    "include(\"../src/SparseKMeans.jl\")\n",
    "include(\"../src/RobustKMeans.jl\")\n",
    "include(\"../src/DataGeneration.jl\");"
   ]
  },
  {
   "cell_type": "code",
   "execution_count": 13,
   "metadata": {},
   "outputs": [
    {
     "ename": "ErrorException",
     "evalue": "function sparse_kmeans does not accept keyword arguments",
     "output_type": "error",
     "traceback": [
      "function sparse_kmeans does not accept keyword arguments",
      "",
      "Stacktrace:",
      " [1] kwfunc(::Any) at /Applications/Julia-1.2.app/Contents/Resources/julia/lib/julia/sys.dylib:?",
      " [2] top-level scope at ./util.jl:213"
     ]
    }
   ],
   "source": [
    "p = 20\n",
    "K = 2\n",
    "num_trials = 10\n",
    "n_grid = [100, 500, 1000]\n",
    "d_grid = [100, 500, 1000, 5000, 10000]\n",
    "sparse_run_time = zeros(size(n_grid, 1), size(d_grid, 1), num_trials)\n",
    "robust_run_time = zeros(size(n_grid, 1), size(d_grid, 1), num_trials)\n",
    "for (i, n) in enumerate(n_grid)\n",
    "    for (j, d) in enumerate(d_grid)\n",
    "        for k=1:num_trials\n",
    "            X, true_assignments, true_features = generate_random_data(n, d, p, K)\n",
    "            sparse_run_time[i,j,k] = @elapsed sparse_kmeans(X, K, p, num_restarts_per_cut=1, \n",
    "                num_restarts_per_solve=2)\n",
    "            robust_run_time[i,j,k] = @elapsed robust_kmeans(X, K, λ=sqrt(p))\n",
    "        end\n",
    "        println(\"Completed trials with n=$n and d=$d\")\n",
    "    end\n",
    "end"
   ]
  },
  {
   "cell_type": "code",
   "execution_count": null,
   "metadata": {},
   "outputs": [],
   "source": []
  }
 ],
 "metadata": {
  "kernelspec": {
   "display_name": "Julia 1.2.0",
   "language": "julia",
   "name": "julia-1.2"
  },
  "language_info": {
   "file_extension": ".jl",
   "mimetype": "application/julia",
   "name": "julia",
   "version": "1.2.0"
  }
 },
 "nbformat": 4,
 "nbformat_minor": 2
}
