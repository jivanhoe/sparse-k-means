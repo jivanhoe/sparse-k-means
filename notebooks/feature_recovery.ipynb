{
 "cells": [
  {
   "cell_type": "code",
   "execution_count": 28,
   "metadata": {},
   "outputs": [],
   "source": [
    "using PyPlot, DataFrames, Combinatorics"
   ]
  },
  {
   "cell_type": "code",
   "execution_count": 3,
   "metadata": {},
   "outputs": [
    {
     "name": "stdout",
     "output_type": "stream",
     "text": [
      "Academic license - for non-commercial use only\n"
     ]
    }
   ],
   "source": [
    "include(\"../src/SparseKMeans.jl\")\n",
    "include(\"../src/RobustKMeans.jl\")\n",
    "include(\"../src/DataGeneration.jl\");"
   ]
  },
  {
   "cell_type": "code",
   "execution_count": 71,
   "metadata": {},
   "outputs": [
    {
     "name": "stdout",
     "output_type": "stream",
     "text": [
      "Completed iteration with d=100 and SNR=1.1.\n",
      "Completed iteration with d=500 and SNR=1.1.\n",
      "Completed iteration with d=1000 and SNR=1.1.\n",
      "Completed iteration with d=5000 and SNR=1.1.\n",
      "Completed iteration with d=10000 and SNR=1.1.\n",
      "Completed iteration with d=100 and SNR=1.5.\n",
      "Completed iteration with d=500 and SNR=1.5.\n",
      "Completed iteration with d=1000 and SNR=1.5.\n",
      "Completed iteration with d=5000 and SNR=1.5.\n",
      "Completed iteration with d=10000 and SNR=1.5.\n",
      "Completed iteration with d=100 and SNR=2.0.\n",
      "Completed iteration with d=500 and SNR=2.0.\n",
      "Completed iteration with d=1000 and SNR=2.0.\n",
      "Completed iteration with d=5000 and SNR=2.0.\n",
      "Completed iteration with d=10000 and SNR=2.0.\n",
      "Completed iteration with d=100 and SNR=5.0.\n",
      "Completed iteration with d=500 and SNR=5.0.\n",
      "Completed iteration with d=1000 and SNR=5.0.\n",
      "Completed iteration with d=5000 and SNR=5.0.\n",
      "Completed iteration with d=10000 and SNR=5.0.\n"
     ]
    }
   ],
   "source": [
    "n = 100\n",
    "p = 50\n",
    "K = 3\n",
    "σ_noise = 1.0\n",
    "true_features_pct = 0.01\n",
    "SNR_grid = [1.1, 1.5, 2, 5]\n",
    "d_grid = [100, 500, 1000, 5000, 10000]\n",
    "sparse_kmeans_results = []\n",
    "robust_kmeans_results = []\n",
    "for SNR in SNR_grid\n",
    "    #p = Int.(round(d * true_features_pct))\n",
    "    for d in d_grid\n",
    "        σ_group = SNR * σ_noise\n",
    "        X, true_assignments, true_features = generate_random_data(n, d, p, K, σ_noise=σ_noise, σ_group=σ_group)\n",
    "        selected_features, sparse_cluster_assignments = sparse_kmeans(X, K, p)\n",
    "        feature_weights, robust_cluster_assignments = robust_kmeans(X, K, λ=float(p))\n",
    "        push!(\n",
    "            sparse_kmeans_results,\n",
    "            Dict(\n",
    "                :n => n,\n",
    "                :d => d,\n",
    "                :p => p,\n",
    "                :K => K,\n",
    "                :SNR => SNR,\n",
    "                :selected_features => selected_features,\n",
    "                :cluster_assignments => sparse_cluster_assignments,\n",
    "                :true_features => true_features,\n",
    "                :true_assignments => true_assignments\n",
    "            )\n",
    "        )\n",
    "        push!(\n",
    "            robust_kmeans_results,\n",
    "            Dict(\n",
    "                :n => n,\n",
    "                :d => d,\n",
    "                :p => p,\n",
    "                :K => K,\n",
    "                :SNR => SNR,\n",
    "                :feature_weights => feature_weights,\n",
    "                :cluster_assignments => robust_cluster_assignments,\n",
    "                :true_features => true_features,\n",
    "                :true_assignments => true_assignments\n",
    "            )\n",
    "        )\n",
    "        println(\"Completed iteration with d=$d and SNR=$SNR.\")\n",
    "    end\n",
    "end"
   ]
  },
  {
   "cell_type": "code",
   "execution_count": 67,
   "metadata": {},
   "outputs": [
    {
     "data": {
      "text/plain": [
       "get_selected_features_from_weights (generic function with 1 method)"
      ]
     },
     "execution_count": 67,
     "metadata": {},
     "output_type": "execute_result"
    }
   ],
   "source": [
    "function get_selected_features_from_weights(feature_weights::Array{Float64, 1}, p)\n",
    "    d = size(feature_weights, 1)\n",
    "    selected_features = Int64[]\n",
    "    for j=1:p\n",
    "        push!(\n",
    "            selected_features,\n",
    "            argmax(feature_weights .* [!(j in selected_features) for j=1:d])\n",
    "        )\n",
    "    end\n",
    "    return selected_features\n",
    "end"
   ]
  },
  {
   "cell_type": "code",
   "execution_count": 68,
   "metadata": {},
   "outputs": [
    {
     "data": {
      "text/plain": [
       "calculate_feature_tpr (generic function with 1 method)"
      ]
     },
     "execution_count": 68,
     "metadata": {},
     "output_type": "execute_result"
    }
   ],
   "source": [
    "function calculate_feature_tpr(\n",
    "    true_features::Array{Int64, 1}, \n",
    "    selected_features::Array{Int64, 1},\n",
    "    p::Int64\n",
    ")::Float64\n",
    "    return sum([j in true_features for j in selected_features])/p\n",
    "end"
   ]
  },
  {
   "cell_type": "code",
   "execution_count": 69,
   "metadata": {},
   "outputs": [
    {
     "data": {
      "text/plain": [
       "calculate_assignment_accuracy (generic function with 3 methods)"
      ]
     },
     "execution_count": 69,
     "metadata": {},
     "output_type": "execute_result"
    }
   ],
   "source": [
    "function calculate_assignment_accuracy(\n",
    "    true_assignments::Array{Int64, 1}, \n",
    "    cluster_assignments::Array{Int64, 1},\n",
    "    K::Int64    \n",
    ")::Float64\n",
    "     best_score = 0\n",
    "    for perm in permutations(1:K)\n",
    "        perm_score = 0\n",
    "        for k=1:K\n",
    "            perm_score += sum((true_assignments .== k) .* (cluster_assignments .== perm[k]))\n",
    "        end\n",
    "        if perm_score > best_score\n",
    "            best_score = perm_score\n",
    "        end\n",
    "    end\n",
    "    return best_score / size(true_assignments, 1)\n",
    "end"
   ]
  },
  {
   "cell_type": "code",
   "execution_count": 73,
   "metadata": {},
   "outputs": [],
   "source": [
    "sparse_tpr = [\n",
    "    calculate_feature_tpr(result[:true_features], result[:selected_features], result[:p])\n",
    "    for result in sparse_kmeans_results\n",
    "]\n",
    "robust_tpr = [\n",
    "    calculate_feature_tpr(result[:true_features], get_selected_features_from_weights(result[:feature_weights], p),\n",
    "        result[:p])\n",
    "    for result in robust_kmeans_results\n",
    "]\n",
    "sparse_accruacy = [\n",
    "    calculate_assignment_accuracy(result[:true_assignments], result[:cluster_assignments], result[:K])\n",
    "    for result in sparse_kmeans_results\n",
    "]\n",
    "robust_accruacy = [\n",
    "    calculate_assignment_accuracy(result[:true_assignments], result[:cluster_assignments], result[:K])\n",
    "    for result in sparse_kmeans_results\n",
    "];"
   ]
  },
  {
   "cell_type": "code",
   "execution_count": null,
   "metadata": {},
   "outputs": [],
   "source": []
  }
 ],
 "metadata": {
  "kernelspec": {
   "display_name": "Julia 1.2.0",
   "language": "julia",
   "name": "julia-1.2"
  },
  "language_info": {
   "file_extension": ".jl",
   "mimetype": "application/julia",
   "name": "julia",
   "version": "1.2.0"
  }
 },
 "nbformat": 4,
 "nbformat_minor": 2
}
