{
 "cells": [
  {
   "cell_type": "code",
   "execution_count": 10,
   "metadata": {},
   "outputs": [],
   "source": [
    "using CSV, DataFrames, PyPlot"
   ]
  },
  {
   "cell_type": "code",
   "execution_count": 11,
   "metadata": {},
   "outputs": [
    {
     "name": "stdout",
     "output_type": "stream",
     "text": [
      "Academic license - for non-commercial use only\n"
     ]
    }
   ],
   "source": [
    "include(\"../src/SparseKMeans.jl\");"
   ]
  },
  {
   "cell_type": "code",
   "execution_count": 45,
   "metadata": {},
   "outputs": [],
   "source": [
    "X = CSV.read(\"../data/data.csv\")[:,2:end]\n",
    "y = String.(vec(CSV.read(\"../data/labels.csv\")[:,2]))\n",
    "genes = String.(vec(CSV.read(\"../data/genes.csv\", header=false)[:,1]))\n",
    "names!(X, genes);"
   ]
  },
  {
   "cell_type": "code",
   "execution_count": 51,
   "metadata": {},
   "outputs": [
    {
     "data": {
      "text/plain": [
       "([204, 440, 4618, 4619, 4774, 5454, 8015, 8892, 9176, 9177, 11251, 12070, 15302, 15590, 17921, 18907, 19297, 19314, 19662, 19914], [1, 3, 1, 1, 3, 1, 2, 1, 3, 1  …  3, 3, 3, 1, 3, 3, 2, 2, 1, 1])"
      ]
     },
     "execution_count": 51,
     "metadata": {},
     "output_type": "execute_result"
    }
   ],
   "source": [
    "X_array = convert(Matrix, X)\n",
    "K = 3\n",
    "p = 20\n",
    "selected_features, sparse_cluster_assignments = sparse_kmeans(X, K, p, num_restarts_per_solve=10)"
   ]
  },
  {
   "cell_type": "code",
   "execution_count": null,
   "metadata": {},
   "outputs": [],
   "source": []
  }
 ],
 "metadata": {
  "kernelspec": {
   "display_name": "Julia 1.2.0",
   "language": "julia",
   "name": "julia-1.2"
  },
  "language_info": {
   "file_extension": ".jl",
   "mimetype": "application/julia",
   "name": "julia",
   "version": "1.2.0"
  }
 },
 "nbformat": 4,
 "nbformat_minor": 2
}
